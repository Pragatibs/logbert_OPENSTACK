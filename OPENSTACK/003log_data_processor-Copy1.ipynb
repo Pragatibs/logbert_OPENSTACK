{
 "cells": [
  {
   "cell_type": "code",
   "execution_count": 2,
   "id": "af37d09b-eefc-4c63-982d-66721b3db017",
   "metadata": {},
   "outputs": [],
   "source": [
    "import sys\n",
    "sys.path.append('../')\n",
    "import os\n",
    "import re\n",
    "import json\n",
    "import pandas as pd\n",
    "from collections import defaultdict\n",
    "from tqdm import tqdm\n",
    "import numpy as np\n",
    "from logparser import Spell, Drain\n",
    "import csv\n",
    "from collections import defaultdict, OrderedDict"
   ]
  },
  {
   "cell_type": "code",
   "execution_count": 3,
   "id": "73170e03-131b-43da-a193-4dffb4cc79e5",
   "metadata": {},
   "outputs": [
    {
     "name": "stdout",
     "output_type": "stream",
     "text": [
      "/root/logbert_OPENSTACK/output\n",
      "/root/logbert_OPENSTACK/output/openstack_merged.log_structured.csv\n",
      "/root/logbert_OPENSTACK/output/anomaly_label.csv\n"
     ]
    }
   ],
   "source": [
    "base_dir = os.path.expanduser('~/logbert_OPENSTACK/output')\n",
    "print(base_dir)\n",
    "input_csv_file =  os.path.join(base_dir , 'openstack_merged.log_structured.csv')\n",
    "print(input_csv_file)\n",
    "output_csv_file = os.path.join(base_dir , 'anomaly_label.csv')\n",
    "print(output_csv_file)"
   ]
  },
  {
   "cell_type": "code",
   "execution_count": 4,
   "id": "d018be5c-e2b0-4435-9922-d163e4ebfdda",
   "metadata": {},
   "outputs": [],
   "source": [
    "anomaly_instance_ids = [\n",
    "        '544fd51c-4edc-4780-baae-ba1d80a0acfc',\n",
    "        'ae651dff-c7ad-43d6-ac96-bbcd820ccca8',\n",
    "        'a445709b-6ad0-40ec-8860-bec60b6ca0c2',\n",
    "        '1643649d-2f42-4303-bfcd-7798baec19f9'\n",
    "    ]"
   ]
  },
  {
   "cell_type": "code",
   "execution_count": 5,
   "id": "fff31ba5-d433-4bfa-b1b7-4389e1c0748b",
   "metadata": {},
   "outputs": [],
   "source": [
    "class LogDataProcessor:\n",
    "    def append_labels_to_csv(self, input_file, output_file, anomaly_instance_ids):\n",
    "        def is_anomaly(content):\n",
    "            for instance_id in anomaly_instance_ids:\n",
    "                if instance_id in content:\n",
    "                    return True\n",
    "            return False\n",
    "\n",
    "        with open(input_file, 'r') as input_csv, open(output_file, 'w', newline='') as output_csv:\n",
    "            reader = csv.DictReader(input_csv)\n",
    "            fieldnames = reader.fieldnames + ['Label']\n",
    "            writer = csv.DictWriter(output_csv, fieldnames=fieldnames)\n",
    "            writer.writeheader()\n",
    "            for row in reader:\n",
    "                content = row['Content']\n",
    "                label = 'ANOMALY' if is_anomaly(content) else 'NORMAL'\n",
    "                row['Label'] = label\n",
    "                writer.writerow(row)\n",
    "        print(\"Labels appended successfully.\")\n",
    "\n",
    "    def filter_csv(self, input_csv_path, output_csv_path, selected_columns):\n",
    "        with open(input_csv_path, 'r') as input_csv, open(output_csv_path, 'w', newline='') as output_csv:\n",
    "            reader = csv.reader(input_csv)\n",
    "            writer = csv.writer(output_csv)\n",
    "\n",
    "            header = next(reader)\n",
    "            selected_indices = [header.index(column) for column in selected_columns]\n",
    "            writer.writerow(selected_columns)\n",
    "\n",
    "            for row in reader:\n",
    "                filtered_row = [row[index] for index in selected_indices]\n",
    "                writer.writerow(filtered_row)\n",
    "\n",
    "        print(\"Filtered CSV file generated successfully.\")\n",
    "\n",
    "    def extract_unique_labels(self, input_csv_path, output_csv_path):\n",
    "        unique_labels = defaultdict(list)\n",
    "\n",
    "        with open(input_csv_path, 'r') as input_csv:\n",
    "            reader = csv.DictReader(input_csv)\n",
    "            for row in reader:\n",
    "                content = row['Content']\n",
    "                label = row['Label']\n",
    "                instance_id = content.split('[instance: ')[-1].split(']')[0]\n",
    "                unique_labels[instance_id].append(label)\n",
    "\n",
    "        with open(output_csv_path, 'w', newline='') as output_csv:\n",
    "            writer = csv.writer(output_csv)\n",
    "            writer.writerow(['instance_id', 'Labels'])  # Write the header\n",
    "            for instance_id, labels in unique_labels.items():\n",
    "                writer.writerow([instance_id, ', '.join(labels)])\n",
    "\n",
    "        print('Unique instance IDs and labels extracted successfully.')\n",
    "\n",
    "    def generate_unique_labels_csv(self, input_csv_path, output_csv_path):\n",
    "        instance_ids = OrderedDict()\n",
    "\n",
    "        pattern = r'\\[instance: ([a-fA-F0-9-]+)\\]|image ([a-fA-F0-9-]+)|instance ([a-fA-F0-9-]+)'\n",
    "\n",
    "        # Read the input CSV file and extract unique instance IDs and their labels\n",
    "        with open(input_csv_path, 'r') as input_csv:\n",
    "            reader = csv.DictReader(input_csv)\n",
    "            for row in reader:\n",
    "                content = row['Content']\n",
    "                label = row['Label']\n",
    "                matches = re.findall(pattern, content)\n",
    "                for match in matches:\n",
    "                    instance_id = next(filter(None, match))\n",
    "                    if label in ['NORMAL', 'ANOMALY']:\n",
    "                        instance_ids.setdefault(instance_id, []).append(label)\n",
    "\n",
    "        with open(output_csv_path, 'w', newline='') as output_csv:\n",
    "            writer = csv.writer(output_csv)\n",
    "            writer.writerow(['instance_id', 'Labels'])\n",
    "            for instance_id, labels in instance_ids.items():\n",
    "                unique_labels = set(labels)\n",
    "                writer.writerow([instance_id, ','.join(unique_labels)])\n",
    "\n",
    "        print('Unique labels CSV file generated successfully.')\n",
    "\n",
    "    def filter_unique_labels_csv(self, input_csv_path, output_csv_path):\n",
    "        with open(input_csv_path, 'r') as input_csv:\n",
    "            reader = csv.reader(input_csv)\n",
    "            rows = list(reader)\n",
    "        if len(rows) > 4:\n",
    "            del rows[3]\n",
    "        with open(output_csv_path, 'w', newline='') as output_csv:\n",
    "            writer = csv.writer(output_csv)\n",
    "            writer.writerows(rows)\n",
    "\n",
    "        print('Filtered unique labels CSV file generated successfully.')"
   ]
  },
  {
   "cell_type": "code",
   "execution_count": 6,
   "id": "8c2cab01-0c5a-4511-a483-5f168c6b7e05",
   "metadata": {},
   "outputs": [
    {
     "name": "stdout",
     "output_type": "stream",
     "text": [
      "Labels appended successfully.\n",
      "Filtered CSV file generated successfully.\n",
      "Unique instance IDs and labels extracted successfully.\n",
      "Unique labels CSV file generated successfully.\n",
      "Filtered unique labels CSV file generated successfully.\n"
     ]
    }
   ],
   "source": [
    "def main():\n",
    "    processor = LogDataProcessor()\n",
    "    processor.append_labels_to_csv(input_csv_file, output_csv_file, anomaly_instance_ids)\n",
    "\n",
    "    input_csv_path = os.path.join(base_dir ,'anomaly_label.csv')\n",
    "    output_csv_path = os.path.join(base_dir ,'anomaly_label_filtered.csv')\n",
    "    selected_columns = ['ADDR', 'Content', 'Label']\n",
    "    processor.filter_csv(input_csv_path, output_csv_path, selected_columns)\n",
    "\n",
    "    input_csv_path = os.path.join(base_dir ,'anomaly_label_filtered.csv')\n",
    "    output_csv_path = os.path.join(base_dir , 'unique_label.csv')\n",
    "    processor.extract_unique_labels(input_csv_path, output_csv_path)\n",
    "\n",
    "    input_csv_path = os.path.join(base_dir ,'anomaly_label_filtered.csv')\n",
    "    output_csv_path = os.path.join(base_dir , 'unique_label.csv')\n",
    "    processor.generate_unique_labels_csv(input_csv_path, output_csv_path)\n",
    "\n",
    "    input_csv_path = os.path.join(base_dir ,'unique_label.csv')\n",
    "    output_csv_path = os.path.join(base_dir , 'unique_label_filtered.csv')\n",
    "    processor.filter_unique_labels_csv(input_csv_path, output_csv_path)\n",
    "\n",
    "if __name__ == \"__main__\":\n",
    "    main()"
   ]
  },
  {
   "cell_type": "code",
   "execution_count": null,
   "id": "c30f8c8a-24f2-405b-9e84-00123c540ce7",
   "metadata": {},
   "outputs": [],
   "source": []
  },
  {
   "cell_type": "code",
   "execution_count": null,
   "id": "53cb06d8-50b6-428c-90d5-94b418516bb1",
   "metadata": {},
   "outputs": [],
   "source": []
  },
  {
   "cell_type": "code",
   "execution_count": null,
   "id": "8cd92bad-b84f-4f0a-9e32-873e527d71de",
   "metadata": {},
   "outputs": [],
   "source": []
  },
  {
   "cell_type": "code",
   "execution_count": null,
   "id": "2416b906-29ce-4236-a425-7251bd3adb1c",
   "metadata": {},
   "outputs": [],
   "source": []
  }
 ],
 "metadata": {
  "availableInstances": [
   {
    "_defaultOrder": 0,
    "_isFastLaunch": true,
    "category": "General purpose",
    "gpuNum": 0,
    "hideHardwareSpecs": false,
    "memoryGiB": 4,
    "name": "ml.t3.medium",
    "vcpuNum": 2
   },
   {
    "_defaultOrder": 1,
    "_isFastLaunch": false,
    "category": "General purpose",
    "gpuNum": 0,
    "hideHardwareSpecs": false,
    "memoryGiB": 8,
    "name": "ml.t3.large",
    "vcpuNum": 2
   },
   {
    "_defaultOrder": 2,
    "_isFastLaunch": false,
    "category": "General purpose",
    "gpuNum": 0,
    "hideHardwareSpecs": false,
    "memoryGiB": 16,
    "name": "ml.t3.xlarge",
    "vcpuNum": 4
   },
   {
    "_defaultOrder": 3,
    "_isFastLaunch": false,
    "category": "General purpose",
    "gpuNum": 0,
    "hideHardwareSpecs": false,
    "memoryGiB": 32,
    "name": "ml.t3.2xlarge",
    "vcpuNum": 8
   },
   {
    "_defaultOrder": 4,
    "_isFastLaunch": true,
    "category": "General purpose",
    "gpuNum": 0,
    "hideHardwareSpecs": false,
    "memoryGiB": 8,
    "name": "ml.m5.large",
    "vcpuNum": 2
   },
   {
    "_defaultOrder": 5,
    "_isFastLaunch": false,
    "category": "General purpose",
    "gpuNum": 0,
    "hideHardwareSpecs": false,
    "memoryGiB": 16,
    "name": "ml.m5.xlarge",
    "vcpuNum": 4
   },
   {
    "_defaultOrder": 6,
    "_isFastLaunch": false,
    "category": "General purpose",
    "gpuNum": 0,
    "hideHardwareSpecs": false,
    "memoryGiB": 32,
    "name": "ml.m5.2xlarge",
    "vcpuNum": 8
   },
   {
    "_defaultOrder": 7,
    "_isFastLaunch": false,
    "category": "General purpose",
    "gpuNum": 0,
    "hideHardwareSpecs": false,
    "memoryGiB": 64,
    "name": "ml.m5.4xlarge",
    "vcpuNum": 16
   },
   {
    "_defaultOrder": 8,
    "_isFastLaunch": false,
    "category": "General purpose",
    "gpuNum": 0,
    "hideHardwareSpecs": false,
    "memoryGiB": 128,
    "name": "ml.m5.8xlarge",
    "vcpuNum": 32
   },
   {
    "_defaultOrder": 9,
    "_isFastLaunch": false,
    "category": "General purpose",
    "gpuNum": 0,
    "hideHardwareSpecs": false,
    "memoryGiB": 192,
    "name": "ml.m5.12xlarge",
    "vcpuNum": 48
   },
   {
    "_defaultOrder": 10,
    "_isFastLaunch": false,
    "category": "General purpose",
    "gpuNum": 0,
    "hideHardwareSpecs": false,
    "memoryGiB": 256,
    "name": "ml.m5.16xlarge",
    "vcpuNum": 64
   },
   {
    "_defaultOrder": 11,
    "_isFastLaunch": false,
    "category": "General purpose",
    "gpuNum": 0,
    "hideHardwareSpecs": false,
    "memoryGiB": 384,
    "name": "ml.m5.24xlarge",
    "vcpuNum": 96
   },
   {
    "_defaultOrder": 12,
    "_isFastLaunch": false,
    "category": "General purpose",
    "gpuNum": 0,
    "hideHardwareSpecs": false,
    "memoryGiB": 8,
    "name": "ml.m5d.large",
    "vcpuNum": 2
   },
   {
    "_defaultOrder": 13,
    "_isFastLaunch": false,
    "category": "General purpose",
    "gpuNum": 0,
    "hideHardwareSpecs": false,
    "memoryGiB": 16,
    "name": "ml.m5d.xlarge",
    "vcpuNum": 4
   },
   {
    "_defaultOrder": 14,
    "_isFastLaunch": false,
    "category": "General purpose",
    "gpuNum": 0,
    "hideHardwareSpecs": false,
    "memoryGiB": 32,
    "name": "ml.m5d.2xlarge",
    "vcpuNum": 8
   },
   {
    "_defaultOrder": 15,
    "_isFastLaunch": false,
    "category": "General purpose",
    "gpuNum": 0,
    "hideHardwareSpecs": false,
    "memoryGiB": 64,
    "name": "ml.m5d.4xlarge",
    "vcpuNum": 16
   },
   {
    "_defaultOrder": 16,
    "_isFastLaunch": false,
    "category": "General purpose",
    "gpuNum": 0,
    "hideHardwareSpecs": false,
    "memoryGiB": 128,
    "name": "ml.m5d.8xlarge",
    "vcpuNum": 32
   },
   {
    "_defaultOrder": 17,
    "_isFastLaunch": false,
    "category": "General purpose",
    "gpuNum": 0,
    "hideHardwareSpecs": false,
    "memoryGiB": 192,
    "name": "ml.m5d.12xlarge",
    "vcpuNum": 48
   },
   {
    "_defaultOrder": 18,
    "_isFastLaunch": false,
    "category": "General purpose",
    "gpuNum": 0,
    "hideHardwareSpecs": false,
    "memoryGiB": 256,
    "name": "ml.m5d.16xlarge",
    "vcpuNum": 64
   },
   {
    "_defaultOrder": 19,
    "_isFastLaunch": false,
    "category": "General purpose",
    "gpuNum": 0,
    "hideHardwareSpecs": false,
    "memoryGiB": 384,
    "name": "ml.m5d.24xlarge",
    "vcpuNum": 96
   },
   {
    "_defaultOrder": 20,
    "_isFastLaunch": false,
    "category": "General purpose",
    "gpuNum": 0,
    "hideHardwareSpecs": true,
    "memoryGiB": 0,
    "name": "ml.geospatial.interactive",
    "supportedImageNames": [
     "sagemaker-geospatial-v1-0"
    ],
    "vcpuNum": 0
   },
   {
    "_defaultOrder": 21,
    "_isFastLaunch": true,
    "category": "Compute optimized",
    "gpuNum": 0,
    "hideHardwareSpecs": false,
    "memoryGiB": 4,
    "name": "ml.c5.large",
    "vcpuNum": 2
   },
   {
    "_defaultOrder": 22,
    "_isFastLaunch": false,
    "category": "Compute optimized",
    "gpuNum": 0,
    "hideHardwareSpecs": false,
    "memoryGiB": 8,
    "name": "ml.c5.xlarge",
    "vcpuNum": 4
   },
   {
    "_defaultOrder": 23,
    "_isFastLaunch": false,
    "category": "Compute optimized",
    "gpuNum": 0,
    "hideHardwareSpecs": false,
    "memoryGiB": 16,
    "name": "ml.c5.2xlarge",
    "vcpuNum": 8
   },
   {
    "_defaultOrder": 24,
    "_isFastLaunch": false,
    "category": "Compute optimized",
    "gpuNum": 0,
    "hideHardwareSpecs": false,
    "memoryGiB": 32,
    "name": "ml.c5.4xlarge",
    "vcpuNum": 16
   },
   {
    "_defaultOrder": 25,
    "_isFastLaunch": false,
    "category": "Compute optimized",
    "gpuNum": 0,
    "hideHardwareSpecs": false,
    "memoryGiB": 72,
    "name": "ml.c5.9xlarge",
    "vcpuNum": 36
   },
   {
    "_defaultOrder": 26,
    "_isFastLaunch": false,
    "category": "Compute optimized",
    "gpuNum": 0,
    "hideHardwareSpecs": false,
    "memoryGiB": 96,
    "name": "ml.c5.12xlarge",
    "vcpuNum": 48
   },
   {
    "_defaultOrder": 27,
    "_isFastLaunch": false,
    "category": "Compute optimized",
    "gpuNum": 0,
    "hideHardwareSpecs": false,
    "memoryGiB": 144,
    "name": "ml.c5.18xlarge",
    "vcpuNum": 72
   },
   {
    "_defaultOrder": 28,
    "_isFastLaunch": false,
    "category": "Compute optimized",
    "gpuNum": 0,
    "hideHardwareSpecs": false,
    "memoryGiB": 192,
    "name": "ml.c5.24xlarge",
    "vcpuNum": 96
   },
   {
    "_defaultOrder": 29,
    "_isFastLaunch": true,
    "category": "Accelerated computing",
    "gpuNum": 1,
    "hideHardwareSpecs": false,
    "memoryGiB": 16,
    "name": "ml.g4dn.xlarge",
    "vcpuNum": 4
   },
   {
    "_defaultOrder": 30,
    "_isFastLaunch": false,
    "category": "Accelerated computing",
    "gpuNum": 1,
    "hideHardwareSpecs": false,
    "memoryGiB": 32,
    "name": "ml.g4dn.2xlarge",
    "vcpuNum": 8
   },
   {
    "_defaultOrder": 31,
    "_isFastLaunch": false,
    "category": "Accelerated computing",
    "gpuNum": 1,
    "hideHardwareSpecs": false,
    "memoryGiB": 64,
    "name": "ml.g4dn.4xlarge",
    "vcpuNum": 16
   },
   {
    "_defaultOrder": 32,
    "_isFastLaunch": false,
    "category": "Accelerated computing",
    "gpuNum": 1,
    "hideHardwareSpecs": false,
    "memoryGiB": 128,
    "name": "ml.g4dn.8xlarge",
    "vcpuNum": 32
   },
   {
    "_defaultOrder": 33,
    "_isFastLaunch": false,
    "category": "Accelerated computing",
    "gpuNum": 4,
    "hideHardwareSpecs": false,
    "memoryGiB": 192,
    "name": "ml.g4dn.12xlarge",
    "vcpuNum": 48
   },
   {
    "_defaultOrder": 34,
    "_isFastLaunch": false,
    "category": "Accelerated computing",
    "gpuNum": 1,
    "hideHardwareSpecs": false,
    "memoryGiB": 256,
    "name": "ml.g4dn.16xlarge",
    "vcpuNum": 64
   },
   {
    "_defaultOrder": 35,
    "_isFastLaunch": false,
    "category": "Accelerated computing",
    "gpuNum": 1,
    "hideHardwareSpecs": false,
    "memoryGiB": 61,
    "name": "ml.p3.2xlarge",
    "vcpuNum": 8
   },
   {
    "_defaultOrder": 36,
    "_isFastLaunch": false,
    "category": "Accelerated computing",
    "gpuNum": 4,
    "hideHardwareSpecs": false,
    "memoryGiB": 244,
    "name": "ml.p3.8xlarge",
    "vcpuNum": 32
   },
   {
    "_defaultOrder": 37,
    "_isFastLaunch": false,
    "category": "Accelerated computing",
    "gpuNum": 8,
    "hideHardwareSpecs": false,
    "memoryGiB": 488,
    "name": "ml.p3.16xlarge",
    "vcpuNum": 64
   },
   {
    "_defaultOrder": 38,
    "_isFastLaunch": false,
    "category": "Accelerated computing",
    "gpuNum": 8,
    "hideHardwareSpecs": false,
    "memoryGiB": 768,
    "name": "ml.p3dn.24xlarge",
    "vcpuNum": 96
   },
   {
    "_defaultOrder": 39,
    "_isFastLaunch": false,
    "category": "Memory Optimized",
    "gpuNum": 0,
    "hideHardwareSpecs": false,
    "memoryGiB": 16,
    "name": "ml.r5.large",
    "vcpuNum": 2
   },
   {
    "_defaultOrder": 40,
    "_isFastLaunch": false,
    "category": "Memory Optimized",
    "gpuNum": 0,
    "hideHardwareSpecs": false,
    "memoryGiB": 32,
    "name": "ml.r5.xlarge",
    "vcpuNum": 4
   },
   {
    "_defaultOrder": 41,
    "_isFastLaunch": false,
    "category": "Memory Optimized",
    "gpuNum": 0,
    "hideHardwareSpecs": false,
    "memoryGiB": 64,
    "name": "ml.r5.2xlarge",
    "vcpuNum": 8
   },
   {
    "_defaultOrder": 42,
    "_isFastLaunch": false,
    "category": "Memory Optimized",
    "gpuNum": 0,
    "hideHardwareSpecs": false,
    "memoryGiB": 128,
    "name": "ml.r5.4xlarge",
    "vcpuNum": 16
   },
   {
    "_defaultOrder": 43,
    "_isFastLaunch": false,
    "category": "Memory Optimized",
    "gpuNum": 0,
    "hideHardwareSpecs": false,
    "memoryGiB": 256,
    "name": "ml.r5.8xlarge",
    "vcpuNum": 32
   },
   {
    "_defaultOrder": 44,
    "_isFastLaunch": false,
    "category": "Memory Optimized",
    "gpuNum": 0,
    "hideHardwareSpecs": false,
    "memoryGiB": 384,
    "name": "ml.r5.12xlarge",
    "vcpuNum": 48
   },
   {
    "_defaultOrder": 45,
    "_isFastLaunch": false,
    "category": "Memory Optimized",
    "gpuNum": 0,
    "hideHardwareSpecs": false,
    "memoryGiB": 512,
    "name": "ml.r5.16xlarge",
    "vcpuNum": 64
   },
   {
    "_defaultOrder": 46,
    "_isFastLaunch": false,
    "category": "Memory Optimized",
    "gpuNum": 0,
    "hideHardwareSpecs": false,
    "memoryGiB": 768,
    "name": "ml.r5.24xlarge",
    "vcpuNum": 96
   },
   {
    "_defaultOrder": 47,
    "_isFastLaunch": false,
    "category": "Accelerated computing",
    "gpuNum": 1,
    "hideHardwareSpecs": false,
    "memoryGiB": 16,
    "name": "ml.g5.xlarge",
    "vcpuNum": 4
   },
   {
    "_defaultOrder": 48,
    "_isFastLaunch": false,
    "category": "Accelerated computing",
    "gpuNum": 1,
    "hideHardwareSpecs": false,
    "memoryGiB": 32,
    "name": "ml.g5.2xlarge",
    "vcpuNum": 8
   },
   {
    "_defaultOrder": 49,
    "_isFastLaunch": false,
    "category": "Accelerated computing",
    "gpuNum": 1,
    "hideHardwareSpecs": false,
    "memoryGiB": 64,
    "name": "ml.g5.4xlarge",
    "vcpuNum": 16
   },
   {
    "_defaultOrder": 50,
    "_isFastLaunch": false,
    "category": "Accelerated computing",
    "gpuNum": 1,
    "hideHardwareSpecs": false,
    "memoryGiB": 128,
    "name": "ml.g5.8xlarge",
    "vcpuNum": 32
   },
   {
    "_defaultOrder": 51,
    "_isFastLaunch": false,
    "category": "Accelerated computing",
    "gpuNum": 1,
    "hideHardwareSpecs": false,
    "memoryGiB": 256,
    "name": "ml.g5.16xlarge",
    "vcpuNum": 64
   },
   {
    "_defaultOrder": 52,
    "_isFastLaunch": false,
    "category": "Accelerated computing",
    "gpuNum": 4,
    "hideHardwareSpecs": false,
    "memoryGiB": 192,
    "name": "ml.g5.12xlarge",
    "vcpuNum": 48
   },
   {
    "_defaultOrder": 53,
    "_isFastLaunch": false,
    "category": "Accelerated computing",
    "gpuNum": 4,
    "hideHardwareSpecs": false,
    "memoryGiB": 384,
    "name": "ml.g5.24xlarge",
    "vcpuNum": 96
   },
   {
    "_defaultOrder": 54,
    "_isFastLaunch": false,
    "category": "Accelerated computing",
    "gpuNum": 8,
    "hideHardwareSpecs": false,
    "memoryGiB": 768,
    "name": "ml.g5.48xlarge",
    "vcpuNum": 192
   },
   {
    "_defaultOrder": 55,
    "_isFastLaunch": false,
    "category": "Accelerated computing",
    "gpuNum": 8,
    "hideHardwareSpecs": false,
    "memoryGiB": 1152,
    "name": "ml.p4d.24xlarge",
    "vcpuNum": 96
   },
   {
    "_defaultOrder": 56,
    "_isFastLaunch": false,
    "category": "Accelerated computing",
    "gpuNum": 8,
    "hideHardwareSpecs": false,
    "memoryGiB": 1152,
    "name": "ml.p4de.24xlarge",
    "vcpuNum": 96
   }
  ],
  "instance_type": "ml.m5.xlarge",
  "kernelspec": {
   "display_name": "Python 3 (Data Science)",
   "language": "python",
   "name": "python3__SAGEMAKER_INTERNAL__arn:aws:sagemaker:eu-west-1:470317259841:image/datascience-1.0"
  },
  "language_info": {
   "codemirror_mode": {
    "name": "ipython",
    "version": 3
   },
   "file_extension": ".py",
   "mimetype": "text/x-python",
   "name": "python",
   "nbconvert_exporter": "python",
   "pygments_lexer": "ipython3",
   "version": "3.7.10"
  }
 },
 "nbformat": 4,
 "nbformat_minor": 5
}
