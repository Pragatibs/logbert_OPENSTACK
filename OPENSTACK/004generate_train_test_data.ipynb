{
 "cells": [
  {
   "cell_type": "code",
   "execution_count": null,
   "id": "b1797625-d3ed-4ad6-adc4-f0a6d8ba193e",
   "metadata": {},
   "outputs": [],
   "source": [
    "import sys\n",
    "sys.path.append('../')\n",
    "import os"
   ]
  },
  {
   "cell_type": "code",
   "execution_count": null,
   "id": "eaeb5d2d-1de4-4076-8dfe-bc6057d80456",
   "metadata": {},
   "outputs": [],
   "source": [
    "input_dir  = os.path.expanduser('../output/openstack/')\n",
    "output_dir = '../output/openstack/'  "
   ]
  },
  {
   "cell_type": "code",
   "execution_count": null,
   "id": "0ca16dc3-41c4-457e-b9e7-8fa6a0c3641d",
   "metadata": {},
   "outputs": [],
   "source": [
    "log_sequence_file = output_dir + \"openstack_sequence.csv\""
   ]
  },
  {
   "cell_type": "code",
   "execution_count": null,
   "id": "6edb1cbd-a352-414e-9f09-deddbbd79346",
   "metadata": {},
   "outputs": [],
   "source": [
    "def generate_train_test(openstack_sequence_file, n=None, ratio=0.3):\n",
    "    instanceId_label_dict = {}\n",
    "    instanceId_label_file = os.path.join(input_dir, \"unique_label_filtered.csv\")\n",
    "    instanceId_df = pd.read_csv(instanceId_label_file)\n",
    "    for _, row in tqdm(instanceId_df.iterrows()):\n",
    "        instanceId_label_dict[row[\"instance_id\"]] = 1 if row[\"Labels\"] == \"ANOMALY\" else 0\n",
    "\n",
    "    seq = pd.read_csv(openstack_sequence_file)\n",
    "    seq[\"Labels\"] = seq[\"instance_id\"].apply(lambda x: instanceId_label_dict.get(x))  # add label to the sequence of each blockid\n",
    "\n",
    "    normal_seq = seq[seq[\"Labels\"] == 0][\"EventSequence\"]\n",
    "    normal_seq = normal_seq.sample(frac=1, random_state=20)  # shuffle normal data\n",
    "\n",
    "    abnormal_seq = seq[seq[\"Labels\"] == 1][\"EventSequence\"]\n",
    "    normal_len, abnormal_len = len(normal_seq), len(abnormal_seq)\n",
    "    train_len = n if n else int(normal_len * ratio)\n",
    "    print(\"normal size {0}, abnormal size {1}, training size {2}\".format(normal_len, abnormal_len, train_len))\n",
    "\n",
    "    train = normal_seq.iloc[:train_len]\n",
    "    test_normal = normal_seq.iloc[train_len:]\n",
    "    test_abnormal = abnormal_seq\n",
    "\n",
    "    df_to_file(train, output_dir + \"train\")\n",
    "    df_to_file(test_normal, output_dir + \"test_normal\")\n",
    "    df_to_file(test_abnormal, output_dir + \"test_abnormal\")\n",
    "    print(\"generate train test data done\")\n",
    "\n",
    "\n",
    "def df_to_file(df, file_name):\n",
    "    with open(file_name, 'w') as f:\n",
    "        for row in df:\n",
    "            f.write(' '.join([str(ele) for ele in eval(row)]))\n",
    "            f.write('\\n')\n"
   ]
  },
  {
   "cell_type": "code",
   "execution_count": null,
   "id": "91416b8e-60d7-4cc6-a5a7-091082637251",
   "metadata": {},
   "outputs": [],
   "source": [
    "if __name__ == \"__main__\":\n",
    "    \n",
    "    generate_train_test(log_sequence_file, n=2050)"
   ]
  },
  {
   "cell_type": "code",
   "execution_count": null,
   "id": "39955b8a-ffed-4dc7-b2b8-df899a4bd5e1",
   "metadata": {},
   "outputs": [],
   "source": []
  },
  {
   "cell_type": "code",
   "execution_count": null,
   "id": "86a6a568-b11b-4b1d-8394-0d069bb2611f",
   "metadata": {},
   "outputs": [],
   "source": []
  }
 ],
 "metadata": {
  "kernelspec": {
   "display_name": "Python 3 (ipykernel)",
   "language": "python",
   "name": "python3"
  },
  "language_info": {
   "codemirror_mode": {
    "name": "ipython",
    "version": 3
   },
   "file_extension": ".py",
   "mimetype": "text/x-python",
   "name": "python",
   "nbconvert_exporter": "python",
   "pygments_lexer": "ipython3",
   "version": "3.10.4"
  }
 },
 "nbformat": 4,
 "nbformat_minor": 5
}
